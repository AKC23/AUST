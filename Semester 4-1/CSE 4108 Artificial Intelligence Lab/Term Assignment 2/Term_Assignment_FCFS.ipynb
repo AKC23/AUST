{
 "cells": [
  {
   "cell_type": "markdown",
   "metadata": {},
   "source": [
    "Hill_Climbing"
   ]
  },
  {
   "cell_type": "code",
   "execution_count": 1,
   "metadata": {},
   "outputs": [],
   "source": [
    "import random"
   ]
  },
  {
   "cell_type": "code",
   "execution_count": 2,
   "metadata": {},
   "outputs": [],
   "source": [
    "def fchc(initial_state, cost_function, neighbors_function, max_iterations, threshold):\n",
    "    current_state = initial_state\n",
    "    current_cost = cost_function(current_state)\n",
    "    iteration = 0\n",
    "    iteration_results = []\n",
    "    while iteration < max_iterations and current_cost < threshold:\n",
    "        neighbor_states = neighbors_function(current_state)\n",
    "        best_neighbor = max(neighbor_states, key=cost_function)\n",
    "        best_neighbor_cost = cost_function(best_neighbor)\n",
    "        if best_neighbor_cost <= current_cost:\n",
    "            break\n",
    "        current_state = best_neighbor\n",
    "        current_cost = best_neighbor_cost\n",
    "        iteration += 1\n",
    "        iteration_results.append(current_state)\n",
    "    return current_state, iteration_results"
   ]
  },
  {
   "cell_type": "code",
   "execution_count": 3,
   "metadata": {},
   "outputs": [],
   "source": [
    "def cost_function(state):\n",
    "    conflicts = 0\n",
    "    for i in range(len(state)):\n",
    "        for j in range(i + 1, len(state)):\n",
    "            if abs(state[i] - state[j]) == abs(i - j) or state[i] == state[j]:\n",
    "                conflicts += 1\n",
    "    return -conflicts"
   ]
  },
  {
   "cell_type": "code",
   "execution_count": 4,
   "metadata": {},
   "outputs": [],
   "source": [
    "def neighbors_function(state):\n",
    "    neighbors = []\n",
    "    for i in range(len(state)):\n",
    "        for j in range(len(state)):\n",
    "            if state[i] != j:\n",
    "                new_state = state[:]\n",
    "                new_state[i] = j\n",
    "                neighbors.append(new_state)\n",
    "    return neighbors"
   ]
  },
  {
   "cell_type": "code",
   "execution_count": 5,
   "metadata": {},
   "outputs": [
    {
     "name": "stdout",
     "output_type": "stream",
     "text": [
      "Optimal state: [6, 2, 3, 5, 0, 4, 1, 7]\n",
      "Iteration results:\n",
      "Iteration 1 : [1, 2, 3, 4, 0, 4, 6, 7] with non-attacking positions: 8\n",
      "Iteration 2 : [1, 2, 3, 5, 0, 4, 6, 7] with non-attacking positions: 4\n",
      "Iteration 3 : [6, 2, 3, 5, 0, 4, 6, 7] with non-attacking positions: 3\n",
      "Iteration 4 : [6, 2, 3, 5, 0, 4, 1, 7] with non-attacking positions: 1\n"
     ]
    }
   ],
   "source": [
    "initial_state = [1,2,3,4,5,4,6,7]\n",
    "max_iterations = 1000\n",
    "threshold = 27\n",
    "result, iteration_results = fchc(initial_state, cost_function, neighbors_function, max_iterations, threshold)\n",
    "print(\"Optimal state:\", result)\n",
    "print(\"Iteration results:\")\n",
    "for iteration, state in enumerate(iteration_results):\n",
    "    print(\"Iteration\", iteration + 1, \":\", state, \"with non-attacking positions:\", -cost_function(state))"
   ]
  },
  {
   "cell_type": "code",
   "execution_count": null,
   "metadata": {},
   "outputs": [],
   "source": [
    "print(\"Result:\", result)\n",
    "print(\"Value:\", get_value(result))"
   ]
  },
  {
   "cell_type": "code",
   "execution_count": null,
   "metadata": {},
   "outputs": [],
   "source": []
  },
  {
   "cell_type": "code",
   "execution_count": 1,
   "metadata": {},
   "outputs": [],
   "source": [
    "def first_choice_hill_climbing(initial_state, cost_function, neighbors_function, max_iterations, threshold):\n",
    "    current_state = initial_state\n",
    "    current_cost = cost_function(current_state)\n",
    "    iteration = 0\n",
    "    iteration_results = []\n",
    "    \n",
    "    while iteration < max_iterations and current_cost < threshold:\n",
    "        neighbor_states = neighbors_function(current_state)\n",
    "        best_neighbor = min(neighbor_states, key=cost_function, default=None)\n",
    "        \n",
    "        if best_neighbor is None:\n",
    "            break\n",
    "        best_neighbor_cost = cost_function(best_neighbor)\n",
    "        \n",
    "        if best_neighbor_cost >= current_cost:\n",
    "            break\n",
    "        current_state = best_neighbor\n",
    "        current_cost = best_neighbor_cost\n",
    "        \n",
    "        iteration += 1\n",
    "        iteration_results.append(current_state)\n",
    "    return current_state, iteration_results"
   ]
  },
  {
   "cell_type": "code",
   "execution_count": 2,
   "metadata": {},
   "outputs": [],
   "source": [
    "def cost_function(state):\n",
    "    conflicts = 0\n",
    "    for i in range(len(state)):\n",
    "        for j in range(i + 1, len(state)):\n",
    "            if abs(state[i] - state[j]) == abs(i - j) or state[i] == state[j]:\n",
    "                conflicts += 1\n",
    "    return -conflicts"
   ]
  },
  {
   "cell_type": "code",
   "execution_count": 3,
   "metadata": {},
   "outputs": [],
   "source": [
    "def neighbors_function(state):\n",
    "    neighbors = []\n",
    "    for i in range(len(state)):\n",
    "        for j in range(len(state)):\n",
    "            if state[i] != j:\n",
    "                new_state = state[:]\n",
    "                new_state[i] = j\n",
    "                neighbors.append(new_state)\n",
    "    return neighbors"
   ]
  },
  {
   "cell_type": "code",
   "execution_count": 8,
   "metadata": {},
   "outputs": [
    {
     "name": "stdout",
     "output_type": "stream",
     "text": [
      "Iteration 1 : [1, 3, 3, 2, 5, 7, 6, 4] with non-attacking positions: 7\n",
      "Iteration 2 : [1, 3, 3, 4, 5, 7, 6, 4] with non-attacking positions: 10\n",
      "Iteration 3 : [1, 3, 3, 4, 5, 6, 6, 4] with non-attacking positions: 14\n",
      "Iteration 4 : [1, 2, 3, 4, 5, 6, 6, 4] with non-attacking positions: 18\n",
      "Iteration 5 : [1, 2, 3, 4, 5, 6, 7, 4] with non-attacking positions: 23\n",
      "\n",
      "So, optimal state: [1, 2, 3, 4, 5, 6, 7, 4]\n"
     ]
    }
   ],
   "source": [
    "initial_state = [1, 3, 0, 2, 5, 7, 6, 4]\n",
    "max_iterations = 1500\n",
    "threshold = 37\n",
    "result, iteration_results = first_choice_hill_climbing(initial_state, cost_function, neighbors_function, max_iterations, threshold)\n",
    "\n",
    "for iteration, state in enumerate(iteration_results):\n",
    "    print(\"Iteration\", iteration + 1, \":\", state, \"with non-attacking positions:\", -cost_function(state))\n",
    "    \n",
    "print(\"\\nSo, optimal state:\", result)    "
   ]
  },
  {
   "cell_type": "code",
   "execution_count": null,
   "metadata": {},
   "outputs": [],
   "source": []
  }
 ],
 "metadata": {
  "kernelspec": {
   "display_name": "Python 3 (ipykernel)",
   "language": "python",
   "name": "python3"
  },
  "language_info": {
   "codemirror_mode": {
    "name": "ipython",
    "version": 3
   },
   "file_extension": ".py",
   "mimetype": "text/x-python",
   "name": "python",
   "nbconvert_exporter": "python",
   "pygments_lexer": "ipython3",
   "version": "3.9.5"
  },
  "vscode": {
   "interpreter": {
    "hash": "fe1483291c7827397d86c52212aace75da2c1d8fb9e8967b2af50ad496ec9813"
   }
  }
 },
 "nbformat": 4,
 "nbformat_minor": 2
}
