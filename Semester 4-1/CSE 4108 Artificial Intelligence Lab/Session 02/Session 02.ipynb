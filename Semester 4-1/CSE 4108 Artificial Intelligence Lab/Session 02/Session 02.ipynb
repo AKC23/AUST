{
 "cells": [
  {
   "cell_type": "code",
   "execution_count": 2,
   "id": "7be81a55",
   "metadata": {},
   "outputs": [
    {
     "name": "stdout",
     "output_type": "stream",
     "text": [
      "How many times?1\n",
      "Iteration: 1\n",
      "First element:1\n",
      "Interval:3\n",
      "n:5\n",
      "Series sum: 35\n"
     ]
    }
   ],
   "source": [
    "def ssum(N,I,F):\n",
    "    if (N==0):\n",
    "        return 0\n",
    "    elif (N>=1):\n",
    "        return ssum(N-1,I,F)+F+(N-1)*I\n",
    "# Main\n",
    "t=int(input('How many times?'))\n",
    "for i in range(t):\n",
    "    print('Iteration:',i+1)\n",
    "    f=int(input('First element:'))\n",
    "    d=int(input('Interval:'))\n",
    "    n=int(input('n:'))\n",
    "    print('Series sum:', ssum(n,d,f))"
   ]
  },
  {
   "cell_type": "code",
   "execution_count": 3,
   "id": "03530897",
   "metadata": {},
   "outputs": [
    {
     "name": "stdout",
     "output_type": "stream",
     "text": [
      "Enter a number: 4\n",
      "The factorial of 4 is 24\n"
     ]
    }
   ],
   "source": [
    "def recur_factorial(n):\n",
    "    if n == 0:\n",
    "           return 1\n",
    "    else:\n",
    "           return n*recur_factorial(n-1)\n",
    "\n",
    "num = int(input(\"Enter a number: \"))\n",
    "\n",
    "if num < 0:\n",
    "    print(\"Sorry, factorial does not exist for negative numbers\")\n",
    "elif num == 0:\n",
    "    print(\"The factorial of 0 is 1\")\n",
    "else:\n",
    "    print(\"The factorial of\",num,\"is\",recur_factorial(num))"
   ]
  },
  {
   "cell_type": "markdown",
   "id": "a7caed64",
   "metadata": {},
   "source": [
    "#### Eight Puzzle"
   ]
  },
  {
   "cell_type": "code",
   "execution_count": 4,
   "id": "04604b06",
   "metadata": {},
   "outputs": [
    {
     "name": "stdout",
     "output_type": "stream",
     "text": [
      "Heuristic 1 :  6\n"
     ]
    }
   ],
   "source": [
    "gtp=[(1,1,1), (2,1,2), (3,1,3), (4,2,3), (5,3,3), (6,3,2), (7,3,1), (8,2,1)]\n",
    "tp=[(1,1,2), (2,1,3), (3,2,1), (4,2,3), (5,3,3), (6,2,2), (7,3,2), (8,1,1)]\n",
    "\n",
    "i=0\n",
    "h=0\n",
    "\n",
    "while(i<=7):\n",
    "    # check gtp[x][2nd element] != tp[X][2nd element]\n",
    "    if((gtp[i][1] != tp[i][1]) or (gtp[i][2] != tp[i][2])):\n",
    "        h=h+1\n",
    "    i=i+1\n",
    "\n",
    "print(\"Heuristic 1 : \",h)"
   ]
  },
  {
   "cell_type": "markdown",
   "id": "723c627c",
   "metadata": {},
   "source": [
    "#### Find h2 (heuristic value for 8-Puzzle problem)"
   ]
  },
  {
   "cell_type": "code",
   "execution_count": 61,
   "id": "4e70a4c6",
   "metadata": {},
   "outputs": [
    {
     "name": "stdout",
     "output_type": "stream",
     "text": [
      "1\n",
      "2\n",
      "3\n",
      "6\n",
      "7\n",
      "9\n",
      "10\n",
      "Heuristic value: 7\n",
      "Manhattan distance: 10\n"
     ]
    }
   ],
   "source": [
    "state = [\n",
    "    [8, 1, 2],\n",
    "    [3, 6, 4],\n",
    "    [0, 7, 5]\n",
    "]\n",
    "\n",
    "goal_state = [\n",
    "    [1, 2, 3],\n",
    "    [8, 0, 4],\n",
    "    [7, 6, 5]\n",
    "]\n",
    "\n",
    "def heuristic_value(state):\n",
    "    not_matched = 0\n",
    "    for r in range(3):\n",
    "        for c in range(3):\n",
    "            if state[r][c] != goal_state[r][c]:\n",
    "                not_matched += 1\n",
    "    return not_matched\n",
    "\n",
    "def manhattan_distance(state):\n",
    "    distance = 0\n",
    "    for r in range(3):\n",
    "        for c in range(3):\n",
    "            # If the element is not in same position as the goal state, find its position in the goal state\n",
    "            if state[r][c] != goal_state[r][c]:\n",
    "                position = None\n",
    "                for rr in range(3):\n",
    "                    for cc in range(3):\n",
    "                        if goal_state[rr][cc] == state[r][c]:\n",
    "                            position = (rr, cc)\n",
    "                            break\n",
    "\n",
    "                # If position is found, calculate the distance from the current position\n",
    "                if position:\n",
    "                    goal_row, goal_col = position\n",
    "                    distance += abs(goal_row - r) + abs(goal_col - c)\n",
    "                    #print(distance)\n",
    "    return distance\n",
    "\n",
    "heuristic = heuristic_value(state)\n",
    "manhattan = manhattan_distance(state)\n",
    "\n",
    "\n",
    "print(\"Heuristic value:\", heuristic)\n",
    "print(\"Manhattan distance:\", manhattan)\n"
   ]
  },
  {
   "cell_type": "markdown",
   "id": "fcd045ee",
   "metadata": {},
   "source": [
    "### Find h2 (heuristic value for 8-Puzzle problem)"
   ]
  },
  {
   "cell_type": "code",
   "execution_count": 65,
   "id": "be469599",
   "metadata": {},
   "outputs": [
    {
     "name": "stdout",
     "output_type": "stream",
     "text": [
      "Manhattan distances of the tiles :  8\n"
     ]
    }
   ],
   "source": [
    "gtp = [(1, 1, 1), (2, 1, 2), (3, 1, 3), \n",
    "        (4, 2, 3), (5, 3, 3), (6, 3, 2), \n",
    "        (7, 3, 1), (8, 2, 1)]\n",
    "\n",
    "tp = [(1, 1, 2), (2, 1, 3), (3, 2, 1), \n",
    "      (4, 2, 3), (5, 3, 3), (6, 2, 2), \n",
    "      (7, 3, 2), (8, 1, 1)]\n",
    "\n",
    "i = h = 0\n",
    "\n",
    "while i <= 7:\n",
    "    if (gtp[i][1] != tp[i][1]) or (gtp[i][2] != tp[i][2]):\n",
    "        h += abs(gtp[i][2]-tp[i][2])+abs(gtp[i][1]-tp[i][1])\n",
    "        # print(h)\n",
    "    i = i + 1\n",
    "\n",
    "print(\"Value of h2 : \", h)"
   ]
  },
  {
   "cell_type": "markdown",
   "id": "64147536",
   "metadata": {},
   "source": [
    "### Find h3 (heuristic value for 8-Queen problem)"
   ]
  },
  {
   "cell_type": "code",
   "execution_count": 83,
   "id": "70b529f4",
   "metadata": {},
   "outputs": [
    {
     "name": "stdout",
     "output_type": "stream",
     "text": [
      "For this 8 queens,heuristic value is : 3\n"
     ]
    }
   ],
   "source": [
    "def heuristic(board):\n",
    "    count_attack = 0\n",
    "    for i in range(8):\n",
    "        for j in range(i + 1, 8):\n",
    "              # Check if queens in columns i and j are attacking each other\n",
    "            if board[i] == board[j]:\n",
    "                count_attack += 1    # Queens in the same row are attacking\n",
    "            elif abs(board[i] - board[j]) == abs(i - j):\n",
    "                count_attack += 1 # Queens are on the same diagonal\n",
    "    return count_attack\n",
    "\n",
    "board = [1, 3, 0, 2, 5, 7, 6, 4]\n",
    "\n",
    "heuristic_value = heuristic(board)\n",
    "print(\"For this 8 queens,heuristic value is :\",heuristic_value)"
   ]
  },
  {
   "cell_type": "markdown",
   "id": "57119df8",
   "metadata": {},
   "source": [
    "### Find the length of a path between two vertices of a directed weighted graph."
   ]
  },
  {
   "cell_type": "code",
   "execution_count": 114,
   "id": "b2c19f4e",
   "metadata": {},
   "outputs": [
    {
     "name": "stdout",
     "output_type": "stream",
     "text": [
      "Start Node: B\n",
      "Stop Node: C\n",
      "Length is :  3\n"
     ]
    }
   ],
   "source": [
    "Distance_matrix = {\n",
    "  \"A\": {\"B\": 2, \"C\": 3},\n",
    "  \"B\": {\"D\": 2, \"C\": 4},\n",
    "  \"C\": {\"D\": 1, \"A\": 2},\n",
    "  \"D\": {\"A\": 5, \"C\": 1}\n",
    "}\n",
    "\n",
    "def Measure_Length(Distance_matrix, start, end, visited, path_length):\n",
    "    if start == end:\n",
    "        return path_length\n",
    "\n",
    "    visited.add(start)\n",
    "\n",
    "    min_length = float(\"inf\")\n",
    "\n",
    "    for neighbor in Distance_matrix[start]:\n",
    "        if neighbor not in visited:\n",
    "            # Calculate the length of the path from the neighbor to the end node, \n",
    "            # using the current path_length and the distance from the start node to the neighbor as inputs\n",
    "            length = Measure_Length(Distance_matrix, neighbor, end, visited, path_length + Distance_matrix[start][neighbor])\n",
    "            \n",
    "            if length < min_length:\n",
    "                min_length = length\n",
    "\n",
    "    visited.remove(start) #  After all neighbors have been visited, the start node removed from the visited set.\n",
    "    return min_length\n",
    "\n",
    "start = input(\"Start Node: \")\n",
    "end = input(\"Stop Node: \")\n",
    "visited = set()\n",
    "path_length = 0\n",
    "\n",
    "length = Measure_Length(Distance_matrix, start, end, visited, path_length)\n",
    "\n",
    "print(\"Length is : \",length)\n"
   ]
  },
  {
   "cell_type": "code",
   "execution_count": null,
   "id": "b040cf90",
   "metadata": {},
   "outputs": [],
   "source": []
  }
 ],
 "metadata": {
  "kernelspec": {
   "display_name": "Python 3",
   "language": "python",
   "name": "python3"
  },
  "language_info": {
   "codemirror_mode": {
    "name": "ipython",
    "version": 3
   },
   "file_extension": ".py",
   "mimetype": "text/x-python",
   "name": "python",
   "nbconvert_exporter": "python",
   "pygments_lexer": "ipython3",
   "version": "3.9.5 (tags/v3.9.5:0a7dcbd, May  3 2021, 17:27:52) [MSC v.1928 64 bit (AMD64)]"
  },
  "vscode": {
   "interpreter": {
    "hash": "0110dd9d0165fb5d0f91ded48be776cc88bf6429de64adad745d7b8728ad6254"
   }
  }
 },
 "nbformat": 4,
 "nbformat_minor": 5
}
