{
 "cells": [
  {
   "cell_type": "markdown",
   "id": "fe949479",
   "metadata": {},
   "source": [
    "## 190104037_Term_Assignment_01\n",
    "### Backward Chaining\n"
   ]
  },
  {
   "cell_type": "code",
   "execution_count": 8,
   "id": "a87c3734",
   "metadata": {},
   "outputs": [],
   "source": [
    "def backward_chaining(goal, rules):\n",
    "    if goal in rules:     # Check if the goal can be achieved by satisfying a single rule\n",
    "        return backward_chaining_rule(goal, rules[goal], rules)\n",
    "    else:     # Check if the goal can be achieved by combining multiple rules\n",
    "        for rule in rules:\n",
    "            if goal in rules[rule]:\n",
    "                result = backward_chaining_rule(rule, rules[rule], rules)\n",
    "                print(result)\n",
    "                if result:\n",
    "                    return result\n",
    "        return False\n",
    "\n",
    "def backward_chaining_rule(goal, premises, rules):\n",
    "    for premise in premises:\n",
    "        if not backward_chaining(premise, rules):\n",
    "            return False\n",
    "    return True"
   ]
  },
  {
   "cell_type": "code",
   "execution_count": 9,
   "id": "4a5f3aca",
   "metadata": {},
   "outputs": [],
   "source": [
    "# Define a set of rules\n",
    "rules = {\n",
    "  'A': [],\n",
    "  'B': [],\n",
    "  'C': [],\n",
    "  'D': [],\n",
    "  'Q': ['P'],\n",
    "  'P': ['C','L'],\n",
    "  'P': ['D','M'],\n",
    "  'M': ['B','L'],\n",
    "  'L': ['A','P'],\n",
    "  'L': ['A','B'],\n",
    "  'G': ['A','D'],\n",
    "  'C': ['G','B'],  \n",
    "}"
   ]
  },
  {
   "cell_type": "code",
   "execution_count": 10,
   "id": "6e998ab4",
   "metadata": {},
   "outputs": [
    {
     "name": "stdout",
     "output_type": "stream",
     "text": [
      "True\n"
     ]
    }
   ],
   "source": [
    "# Check if we can achieve the goal 'M'\n",
    "result = backward_chaining('M', rules)\n",
    "print(result) # True"
   ]
  },
  {
   "cell_type": "code",
   "execution_count": 11,
   "id": "b4fdcfda",
   "metadata": {},
   "outputs": [
    {
     "name": "stdout",
     "output_type": "stream",
     "text": [
      "True\n"
     ]
    }
   ],
   "source": [
    "# Check if we can achieve the goal 'A'\n",
    "result = backward_chaining('A', rules)\n",
    "print(result)"
   ]
  },
  {
   "cell_type": "code",
   "execution_count": 14,
   "id": "564e17e6",
   "metadata": {},
   "outputs": [
    {
     "name": "stdout",
     "output_type": "stream",
     "text": [
      "True\n"
     ]
    }
   ],
   "source": [
    "# Check if we can achieve the goal 'c'\n",
    "result = backward_chaining('c', rules)\n",
    "print(result)"
   ]
  },
  {
   "cell_type": "code",
   "execution_count": 16,
   "id": "b43f5064",
   "metadata": {},
   "outputs": [
    {
     "name": "stdout",
     "output_type": "stream",
     "text": [
      "False\n"
     ]
    }
   ],
   "source": [
    "result = backward_chaining('M', rules)\n",
    "print(result)"
   ]
  },
  {
   "cell_type": "code",
   "execution_count": null,
   "id": "6e3fb96f",
   "metadata": {},
   "outputs": [],
   "source": []
  }
 ],
 "metadata": {
  "kernelspec": {
   "display_name": "Python 3 (ipykernel)",
   "language": "python",
   "name": "python3"
  },
  "language_info": {
   "codemirror_mode": {
    "name": "ipython",
    "version": 3
   },
   "file_extension": ".py",
   "mimetype": "text/x-python",
   "name": "python",
   "nbconvert_exporter": "python",
   "pygments_lexer": "ipython3",
   "version": "3.9.5 (tags/v3.9.5:0a7dcbd, May  3 2021, 17:27:52) [MSC v.1928 64 bit (AMD64)]"
  },
  "vscode": {
   "interpreter": {
    "hash": "0110dd9d0165fb5d0f91ded48be776cc88bf6429de64adad745d7b8728ad6254"
   }
  }
 },
 "nbformat": 4,
 "nbformat_minor": 5
}
