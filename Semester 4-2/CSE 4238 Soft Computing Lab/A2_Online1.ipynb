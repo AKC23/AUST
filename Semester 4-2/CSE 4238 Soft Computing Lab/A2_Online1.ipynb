{
  "nbformat": 4,
  "nbformat_minor": 0,
  "metadata": {
    "colab": {
      "provenance": []
    },
    "kernelspec": {
      "name": "python3",
      "display_name": "Python 3"
    },
    "language_info": {
      "name": "python"
    }
  },
  "cells": [
    {
      "cell_type": "code",
      "source": [
        "import numpy as np"
      ],
      "metadata": {
        "id": "JkCWfFzKQqlV"
      },
      "execution_count": null,
      "outputs": []
    },
    {
      "cell_type": "code",
      "execution_count": null,
      "metadata": {
        "colab": {
          "base_uri": "https://localhost:8080/"
        },
        "id": "XvqkAVtBQWSw",
        "outputId": "b6272ae8-bbf3-4baa-cec3-60021353feea"
      },
      "outputs": [
        {
          "output_type": "stream",
          "name": "stdout",
          "text": [
            "[[0.30703566 0.54893668 0.61151894]\n",
            " [0.84011892 0.57021462 0.25334316]\n",
            " [0.35476671 0.36512466 0.9504655 ]]\n",
            "[[0.32394222 0.14590848 0.63593601]\n",
            " [0.60249125 0.22243168 0.31923334]\n",
            " [0.00483459 0.47701779 0.29564976]]\n"
          ]
        }
      ],
      "source": [
        "A = np.random.random((3,3))\n",
        "B = np.random.random((3,3))\n",
        "print(A)\n",
        "print(B)"
      ]
    },
    {
      "cell_type": "code",
      "source": [
        "A.T"
      ],
      "metadata": {
        "colab": {
          "base_uri": "https://localhost:8080/"
        },
        "id": "AsRlcOcSS8cM",
        "outputId": "9a6d1b58-21bd-4a9e-918e-5a3866815e0f"
      },
      "execution_count": null,
      "outputs": [
        {
          "output_type": "execute_result",
          "data": {
            "text/plain": [
              "array([[0.30703566, 0.84011892, 0.35476671],\n",
              "       [0.54893668, 0.57021462, 0.36512466],\n",
              "       [0.61151894, 0.25334316, 0.9504655 ]])"
            ]
          },
          "metadata": {},
          "execution_count": 35
        }
      ]
    },
    {
      "cell_type": "code",
      "source": [
        "C = np.dot((A.T),A) + B\n",
        "print(C)"
      ],
      "metadata": {
        "colab": {
          "base_uri": "https://localhost:8080/"
        },
        "id": "AXwAAQpzQvNr",
        "outputId": "f8b7c953-d3f2-4ada-ad56-ff89bdd6c091"
      },
      "execution_count": null,
      "outputs": [
        {
          "output_type": "stream",
          "name": "stdout",
          "text": [
            "[[1.24987234 0.92303379 1.37372604]\n",
            " [1.37961656 0.9822239  1.14641688]\n",
            " [0.74262462 1.30420134 1.63717259]]\n"
          ]
        }
      ]
    },
    {
      "cell_type": "code",
      "source": [
        "D = np.array([[2,3,6,7,4],\n",
        "              [3,5,7,9,10],\n",
        "              [6,7,8,9,12]])\n",
        "print(D)"
      ],
      "metadata": {
        "colab": {
          "base_uri": "https://localhost:8080/"
        },
        "id": "rvutYrV3RGzF",
        "outputId": "37b5bf02-70a8-4b25-90f4-3d8292731771"
      },
      "execution_count": null,
      "outputs": [
        {
          "output_type": "stream",
          "name": "stdout",
          "text": [
            "[[ 2  3  6  7  4]\n",
            " [ 3  5  7  9 10]\n",
            " [ 6  7  8  9 12]]\n"
          ]
        }
      ]
    },
    {
      "cell_type": "code",
      "source": [
        "print(D[1:2:,1:2:])"
      ],
      "metadata": {
        "colab": {
          "base_uri": "https://localhost:8080/"
        },
        "id": "2BHGtVOVUPXO",
        "outputId": "e048d1dc-65d5-4343-f6d8-d39b8170c259"
      },
      "execution_count": null,
      "outputs": [
        {
          "output_type": "stream",
          "name": "stdout",
          "text": [
            "[[5]]\n"
          ]
        }
      ]
    },
    {
      "cell_type": "code",
      "source": [
        "print(D[-2:-1:,-4:-3:])"
      ],
      "metadata": {
        "colab": {
          "base_uri": "https://localhost:8080/"
        },
        "id": "d7DE1EzVRlMp",
        "outputId": "6814958b-2a3d-41df-c424-7b7cd2542cc9"
      },
      "execution_count": null,
      "outputs": [
        {
          "output_type": "stream",
          "name": "stdout",
          "text": [
            "[[5]]\n"
          ]
        }
      ]
    },
    {
      "cell_type": "code",
      "source": [
        "print(D[-2,-4])"
      ],
      "metadata": {
        "colab": {
          "base_uri": "https://localhost:8080/"
        },
        "id": "tH2rGA0yTY_r",
        "outputId": "868a5fb8-6514-439c-eca3-31ffa211ed1c"
      },
      "execution_count": null,
      "outputs": [
        {
          "output_type": "stream",
          "name": "stdout",
          "text": [
            "5\n"
          ]
        }
      ]
    },
    {
      "cell_type": "code",
      "source": [],
      "metadata": {
        "id": "o8zBjrQXTkwH"
      },
      "execution_count": null,
      "outputs": []
    }
  ]
}