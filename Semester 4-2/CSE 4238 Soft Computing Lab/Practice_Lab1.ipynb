{
 "cells": [
  {
   "attachments": {},
   "cell_type": "markdown",
   "metadata": {},
   "source": [
    "## Numpy"
   ]
  },
  {
   "cell_type": "code",
   "execution_count": 1,
   "metadata": {},
   "outputs": [],
   "source": [
    "import numpy as np"
   ]
  },
  {
   "cell_type": "code",
   "execution_count": 39,
   "metadata": {},
   "outputs": [
    {
     "name": "stdout",
     "output_type": "stream",
     "text": [
      "2\n",
      "5\n",
      "<class 'numpy.ndarray'>\n",
      "int32\n"
     ]
    }
   ],
   "source": [
    "a = np.array([1,2,3])\n",
    "\n",
    "print(a[1])\n",
    "a[1] = 5\n",
    "print(a[1])\n",
    "print(type(a))\n",
    "print(a.dtype)"
   ]
  },
  {
   "cell_type": "code",
   "execution_count": 9,
   "metadata": {},
   "outputs": [
    {
     "data": {
      "text/plain": [
       "numpy.ndarray"
      ]
     },
     "execution_count": 9,
     "metadata": {},
     "output_type": "execute_result"
    }
   ],
   "source": [
    "b = np.array([[1,2,3], [1,2,3]])\n",
    "type(b)\n"
   ]
  },
  {
   "cell_type": "code",
   "execution_count": 10,
   "metadata": {},
   "outputs": [
    {
     "data": {
      "text/plain": [
       "array([[0., 0.],\n",
       "       [0., 0.]])"
      ]
     },
     "execution_count": 10,
     "metadata": {},
     "output_type": "execute_result"
    }
   ],
   "source": [
    "np.zeros((2,2))"
   ]
  },
  {
   "cell_type": "code",
   "execution_count": 16,
   "metadata": {},
   "outputs": [
    {
     "data": {
      "text/plain": [
       "array([[1., 1.],\n",
       "       [1., 1.]])"
      ]
     },
     "execution_count": 16,
     "metadata": {},
     "output_type": "execute_result"
    }
   ],
   "source": [
    "b = np.ones((2,2))\n",
    "b"
   ]
  },
  {
   "cell_type": "code",
   "execution_count": 15,
   "metadata": {},
   "outputs": [
    {
     "data": {
      "text/plain": [
       "array([[1., 0., 0., 0.],\n",
       "       [0., 1., 0., 0.],\n",
       "       [0., 0., 1., 0.],\n",
       "       [0., 0., 0., 1.]])"
      ]
     },
     "execution_count": 15,
     "metadata": {},
     "output_type": "execute_result"
    }
   ],
   "source": [
    "b = np.eye((4))\n",
    "b"
   ]
  },
  {
   "cell_type": "code",
   "execution_count": 37,
   "metadata": {},
   "outputs": [
    {
     "name": "stdout",
     "output_type": "stream",
     "text": [
      "[[1.82497921]]\n",
      "[[3.46113161]\n",
      " [3.78612762]]\n",
      "[[5.43858102]\n",
      " [5.77200661]]\n"
     ]
    },
    {
     "data": {
      "text/plain": [
       "array([[3.46113161],\n",
       "       [3.78612762],\n",
       "       [5.43858102],\n",
       "       [5.77200661],\n",
       "       [1.82497921]])"
      ]
     },
     "execution_count": 37,
     "metadata": {},
     "output_type": "execute_result"
    }
   ],
   "source": [
    "a = np.random.random((1,1)) + 1\n",
    "b = np.random.random((2,1)) + 3\n",
    "c = np.random.random((2,1)) + 5\n",
    "print(a)\n",
    "print(b)\n",
    "print(c)\n",
    "d = np.concatenate((b,c),axis=0)\n",
    "e = np.concatenate((d,a), axis = 0)\n",
    "e"
   ]
  },
  {
   "cell_type": "code",
   "execution_count": 21,
   "metadata": {},
   "outputs": [
    {
     "data": {
      "text/plain": [
       "array([[1, 2],\n",
       "       [3, 4],\n",
       "       [5, 6]])"
      ]
     },
     "execution_count": 21,
     "metadata": {},
     "output_type": "execute_result"
    }
   ],
   "source": [
    "a = np.array([[1, 2], [3, 4]])\n",
    "b = np.array([[5, 6]])\n",
    "np.concatenate((a, b), axis=0)"
   ]
  },
  {
   "cell_type": "code",
   "execution_count": 43,
   "metadata": {},
   "outputs": [
    {
     "name": "stdout",
     "output_type": "stream",
     "text": [
      "[[1 2]\n",
      " [3 4]] [[5 6]] [1 2]\n",
      "int32 int32 int64\n"
     ]
    }
   ],
   "source": [
    "x = np.array([[1, 2], [3, 4]])\n",
    "y = np.array([[5, 6]])\n",
    "z = np.array([1.2,2.5], dtype=np.int64)\n",
    "\n",
    "print(x,y,z)\n",
    "print(x.dtype, y.dtype, z.dtype)"
   ]
  },
  {
   "cell_type": "code",
   "execution_count": null,
   "metadata": {},
   "outputs": [],
   "source": []
  },
  {
   "attachments": {},
   "cell_type": "markdown",
   "metadata": {},
   "source": [
    "### Array"
   ]
  },
  {
   "cell_type": "code",
   "execution_count": 57,
   "metadata": {},
   "outputs": [
    {
     "name": "stdout",
     "output_type": "stream",
     "text": [
      "[[4 4 5]\n",
      " [6 5 6]]\n",
      "\n",
      "[[-2  0  1]\n",
      " [-4 -1  0]]\n",
      "\n",
      "[[3 4 6]\n",
      " [5 6 9]]\n",
      "[[0.33333333 1.         1.5       ]\n",
      " [0.2        0.66666667 1.        ]]\n",
      "\n"
     ]
    }
   ],
   "source": [
    "a = np.array([[1,2,3], [1,2,3]])\n",
    "b = np.array([[3,2,2], [5,3,3]])\n",
    "\n",
    "print(np.add(a,b), end = \"\\n\\n\")\n",
    "print(np.subtract(a,b), end = \"\\n\\n\")\n",
    "print(np.multiply(a,b))\n",
    "print(np.divide(a,b,  dtype = np.float64), end = \"\\n\\n\")"
   ]
  },
  {
   "cell_type": "code",
   "execution_count": 69,
   "metadata": {},
   "outputs": [
    {
     "name": "stdout",
     "output_type": "stream",
     "text": [
      "[[1 2 3]\n",
      " [1 2 3]]\n",
      "[[3 2 2]\n",
      " [5 3 3]]\n"
     ]
    }
   ],
   "source": [
    "a = np.array([[1,2,3], [1,2,3]])\n",
    "b = np.array([[3,2,2], [5,3,3]])\n",
    "\n",
    "print(a)\n",
    "print(b)\n",
    "# print(a @ b)"
   ]
  },
  {
   "cell_type": "code",
   "execution_count": 71,
   "metadata": {},
   "outputs": [
    {
     "name": "stdout",
     "output_type": "stream",
     "text": [
      "[[1 2 3]\n",
      " [1 2 3]]\n",
      "[[1 1]\n",
      " [2 2]\n",
      " [3 3]]\n"
     ]
    }
   ],
   "source": [
    "a = np.array([[1,2,3], [1,2,3]])\n",
    "print(a)\n",
    "print(a.T)"
   ]
  },
  {
   "cell_type": "code",
   "execution_count": 72,
   "metadata": {},
   "outputs": [
    {
     "name": "stdout",
     "output_type": "stream",
     "text": [
      "[[ 2.71828183  7.3890561  20.08553692]\n",
      " [ 2.71828183  7.3890561  20.08553692]]\n"
     ]
    }
   ],
   "source": [
    "a = np.array([[1,2,3], [1,2,3]])\n",
    "print(np.exp(a))"
   ]
  },
  {
   "attachments": {},
   "cell_type": "markdown",
   "metadata": {},
   "source": [
    "## PyTorch"
   ]
  },
  {
   "cell_type": "code",
   "execution_count": 99,
   "metadata": {},
   "outputs": [
    {
     "name": "stdout",
     "output_type": "stream",
     "text": [
      "2.0.0+cpu\n"
     ]
    }
   ],
   "source": [
    "import torch as tc\n",
    "print(torch.__version__)"
   ]
  },
  {
   "cell_type": "code",
   "execution_count": 100,
   "metadata": {},
   "outputs": [
    {
     "name": "stdout",
     "output_type": "stream",
     "text": [
      "<class 'torch.Tensor'>\n"
     ]
    }
   ],
   "source": [
    "print(torch.Tensor)"
   ]
  },
  {
   "cell_type": "code",
   "execution_count": 101,
   "metadata": {},
   "outputs": [
    {
     "data": {
      "text/plain": [
       "tensor([[1, 1],\n",
       "        [1, 1]])"
      ]
     },
     "execution_count": 101,
     "metadata": {},
     "output_type": "execute_result"
    }
   ],
   "source": [
    "x = torch.tensor([[1,1],[1,1]])\n",
    "x"
   ]
  },
  {
   "cell_type": "code",
   "execution_count": 102,
   "metadata": {},
   "outputs": [
    {
     "name": "stdout",
     "output_type": "stream",
     "text": [
      "tensor([[2.3389, 2.3378, 2.1263],\n",
      "        [2.6583, 2.9104, 2.9064],\n",
      "        [5.2309, 5.0316, 5.1454],\n",
      "        [5.8696, 5.4144, 5.8279]])\n"
     ]
    }
   ],
   "source": [
    "x = torch.rand(2,3)+2\n",
    "y = torch.rand(2,3)+5\n",
    "\n",
    "print(torch.cat((x,y),0))"
   ]
  },
  {
   "cell_type": "code",
   "execution_count": 103,
   "metadata": {},
   "outputs": [
    {
     "name": "stdout",
     "output_type": "stream",
     "text": [
      "[[0.57558608 0.30618228]\n",
      " [0.00201906 0.02627755]]\n",
      "<class 'numpy.ndarray'>\n",
      "tensor([[0.5756, 0.3062],\n",
      "        [0.0020, 0.0263]], dtype=torch.float64)\n",
      "<class 'torch.Tensor'>\n"
     ]
    }
   ],
   "source": [
    "a = np.random.random((2,2))\n",
    "print(a)\n",
    "print(type(a))\n",
    "x = torch.tensor(a)\n",
    "print(x)\n",
    "print(type(x))"
   ]
  },
  {
   "cell_type": "code",
   "execution_count": 104,
   "metadata": {},
   "outputs": [
    {
     "data": {
      "text/plain": [
       "tensor([[0.5756, 0.3062],\n",
       "        [0.0020, 0.0263]], dtype=torch.float64)"
      ]
     },
     "execution_count": 104,
     "metadata": {},
     "output_type": "execute_result"
    }
   ],
   "source": [
    "x = torch.from_numpy(a)\n",
    "x"
   ]
  },
  {
   "cell_type": "code",
   "execution_count": 105,
   "metadata": {},
   "outputs": [
    {
     "name": "stdout",
     "output_type": "stream",
     "text": [
      "tensor([[0., 0.],\n",
      "        [0., 0.]])\n",
      "tensor([[1., 1.],\n",
      "        [1., 1.]])\n",
      "tensor([[1., 0., 0., 0., 0.],\n",
      "        [0., 1., 0., 0., 0.],\n",
      "        [0., 0., 1., 0., 0.],\n",
      "        [0., 0., 0., 1., 0.],\n",
      "        [0., 0., 0., 0., 1.]])\n"
     ]
    }
   ],
   "source": [
    "x = torch.zeros(2,2)\n",
    "print(x)\n",
    "\n",
    "x = torch.ones(2,2)\n",
    "print(x)\n",
    "\n",
    "x = torch.eye(5)\n",
    "print(x)\n"
   ]
  },
  {
   "cell_type": "code",
   "execution_count": 110,
   "metadata": {},
   "outputs": [
    {
     "name": "stdout",
     "output_type": "stream",
     "text": [
      "tensor([[2.5901, 2.4285, 2.6636],\n",
      "        [2.5788, 2.9933, 2.9425]])\n",
      "tensor([[5.0020, 5.9787, 5.0519],\n",
      "        [5.9953, 5.2229, 5.9462]])\n",
      "tensor([[7.5921, 8.4072, 7.7154],\n",
      "        [8.5740, 8.2162, 8.8887]])\n",
      "tensor([[7.5921, 8.4072, 7.7154],\n",
      "        [8.5740, 8.2162, 8.8887]])\n",
      "tensor([[-2.4118, -3.5502, -2.3883],\n",
      "        [-3.4165, -2.2295, -3.0038]])\n"
     ]
    }
   ],
   "source": [
    "x = tc.rand(2,3)+2\n",
    "y = tc.rand(2,3)+5\n",
    "\n",
    "print(x)\n",
    "print(y)\n",
    "print(x+y)\n",
    "print(tc.add(x,y))\n",
    "print(tc.sub(x,y))\n"
   ]
  },
  {
   "cell_type": "code",
   "execution_count": 115,
   "metadata": {},
   "outputs": [
    {
     "name": "stdout",
     "output_type": "stream",
     "text": [
      "torch.Size([2, 3])\n",
      "2\n",
      "torch.FloatTensor\n"
     ]
    }
   ],
   "source": [
    "x = tc.rand(2,3)\n",
    "print(x.shape)\n",
    "print(x.dim())\n",
    "print(x.type())"
   ]
  },
  {
   "cell_type": "code",
   "execution_count": 132,
   "metadata": {},
   "outputs": [
    {
     "name": "stdout",
     "output_type": "stream",
     "text": [
      "tensor([[1, 2, 3],\n",
      "        [4, 5, 6],\n",
      "        [7, 8, 9]])\n"
     ]
    }
   ],
   "source": [
    "x = tc.tensor([[1,2,3],[4,5,6],[7,8,9]])\n",
    "print(x, end=\"\\n\")"
   ]
  },
  {
   "cell_type": "code",
   "execution_count": 134,
   "metadata": {},
   "outputs": [
    {
     "name": "stdout",
     "output_type": "stream",
     "text": [
      "tensor([1, 4, 7])\n"
     ]
    }
   ],
   "source": [
    "print(x[::,0])"
   ]
  },
  {
   "cell_type": "code",
   "execution_count": 129,
   "metadata": {},
   "outputs": [
    {
     "name": "stdout",
     "output_type": "stream",
     "text": [
      "tensor([3, 6, 9])\n"
     ]
    }
   ],
   "source": [
    "# Every row, only the last column\n",
    "print(x[::, -1], end='\\n')"
   ]
  },
  {
   "cell_type": "code",
   "execution_count": 130,
   "metadata": {},
   "outputs": [
    {
     "name": "stdout",
     "output_type": "stream",
     "text": [
      "tensor([[4, 5, 6],\n",
      "        [7, 8, 9]])\n"
     ]
    }
   ],
   "source": [
    "print(x[1:3:], end=\"\\n\")"
   ]
  },
  {
   "cell_type": "code",
   "execution_count": 131,
   "metadata": {},
   "outputs": [
    {
     "name": "stdout",
     "output_type": "stream",
     "text": [
      "tensor([[7, 8, 9]])\n"
     ]
    }
   ],
   "source": [
    "print(x[-1::], end=\"\\n\")"
   ]
  },
  {
   "cell_type": "code",
   "execution_count": 151,
   "metadata": {},
   "outputs": [
    {
     "name": "stdout",
     "output_type": "stream",
     "text": [
      "tensor([[5, 6],\n",
      "        [8, 9]])\n"
     ]
    }
   ],
   "source": [
    "print(x[-2::,-2::])"
   ]
  },
  {
   "cell_type": "code",
   "execution_count": 177,
   "metadata": {},
   "outputs": [
    {
     "name": "stdout",
     "output_type": "stream",
     "text": [
      "torch.int64\n",
      "<class 'torch.Tensor'>\n",
      "torch.Size([4, 2, 3])\n",
      "tensor([[[ 1,  2,  1],\n",
      "         [ 3,  4,  4]],\n",
      "\n",
      "        [[ 5,  6,  5],\n",
      "         [ 7,  8,  2]],\n",
      "\n",
      "        [[ 9, 10,  4],\n",
      "         [11, 12, 15]],\n",
      "\n",
      "        [[13, 14, 34],\n",
      "         [15, 16, 55]]])\n"
     ]
    }
   ],
   "source": [
    "y = tc.tensor([[[1,2,1],[3,4,4]],[[5,6,5],[7,8,2]],\n",
    "               [[9,10,4],[11,12,15]],[[13,14,34],[15,16,55]]])\n",
    "print(y.dtype)\n",
    "print(type(y))\n",
    "print(y.shape)\n",
    "print(y)"
   ]
  },
  {
   "cell_type": "code",
   "execution_count": 191,
   "metadata": {},
   "outputs": [
    {
     "name": "stdout",
     "output_type": "stream",
     "text": [
      "tensor([[[10,  4],\n",
      "         [12, 15]],\n",
      "\n",
      "        [[14, 34],\n",
      "         [16, 55]]])\n"
     ]
    }
   ],
   "source": [
    "# Last 2 rows and 2 columns\n",
    "print(y[2::,::,1::])"
   ]
  },
  {
   "cell_type": "code",
   "execution_count": 203,
   "metadata": {},
   "outputs": [
    {
     "name": "stdout",
     "output_type": "stream",
     "text": [
      "tensor([[[16]]])\n"
     ]
    }
   ],
   "source": [
    "# Last 1 rows and 2nd column only\n",
    "print(y[-1::,-1::,1:2:])"
   ]
  },
  {
   "cell_type": "code",
   "execution_count": null,
   "metadata": {},
   "outputs": [],
   "source": []
  }
 ],
 "metadata": {
  "kernelspec": {
   "display_name": "Python 3",
   "language": "python",
   "name": "python3"
  },
  "language_info": {
   "codemirror_mode": {
    "name": "ipython",
    "version": 3
   },
   "file_extension": ".py",
   "mimetype": "text/x-python",
   "name": "python",
   "nbconvert_exporter": "python",
   "pygments_lexer": "ipython3",
   "version": "3.9.5"
  },
  "orig_nbformat": 4
 },
 "nbformat": 4,
 "nbformat_minor": 2
}
